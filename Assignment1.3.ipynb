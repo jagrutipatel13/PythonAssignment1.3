{
 "cells": [
  {
   "cell_type": "code",
   "execution_count": 17,
   "metadata": {
    "scrolled": true
   },
   "outputs": [
    {
     "name": "stdout",
     "output_type": "stream",
     "text": [
      "Please enter your first name: Jagruti\n",
      "Please enter your last name: Patel\n",
      "Output:\n",
      "Your name is Jagruti Patel\n",
      "Name in reversed order:\n",
      "l e t a P   i t u r g a J\n"
     ]
    }
   ],
   "source": [
    "#Entering input for first name and last name#\n",
    "fname=input(\"Please enter your first name: \")\n",
    "lname=input(\"Please enter your last name: \")\n",
    "fullname=(fname+ \" \"+ lname)\n",
    "print(\"Output:\")\n",
    "print(\"Your name is\", fullname)\n",
    "print(\"Name in reversed order:\")\n",
    "print(' '.join(reversed(fullname))) #Names reversed and printed with space in between#\n"
   ]
  },
  {
   "cell_type": "code",
   "execution_count": null,
   "metadata": {
    "collapsed": true
   },
   "outputs": [],
   "source": []
  },
  {
   "cell_type": "code",
   "execution_count": null,
   "metadata": {
    "collapsed": true
   },
   "outputs": [],
   "source": []
  },
  {
   "cell_type": "code",
   "execution_count": null,
   "metadata": {
    "collapsed": true
   },
   "outputs": [],
   "source": []
  }
 ],
 "metadata": {
  "celltoolbar": "Tags",
  "kernelspec": {
   "display_name": "Python 3",
   "language": "python",
   "name": "python3"
  },
  "language_info": {
   "codemirror_mode": {
    "name": "ipython",
    "version": 3
   },
   "file_extension": ".py",
   "mimetype": "text/x-python",
   "name": "python",
   "nbconvert_exporter": "python",
   "pygments_lexer": "ipython3",
   "version": "3.6.3"
  }
 },
 "nbformat": 4,
 "nbformat_minor": 2
}
